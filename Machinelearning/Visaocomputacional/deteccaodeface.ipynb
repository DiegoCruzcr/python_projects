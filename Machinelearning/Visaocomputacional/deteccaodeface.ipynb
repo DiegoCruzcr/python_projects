{
 "cells": [
  {
   "cell_type": "code",
   "execution_count": null,
   "metadata": {},
   "outputs": [],
   "source": [
    "import cv2 \n",
    "cap = cv2.VideoCapture(0)\n",
    "\n",
    "while(not cv2.waitKey(20) & 0xFF == ord('q')):\n",
    "    ret, frame = cap.read()\n",
    "    cv2.imshow('in live', frame)\n",
    "    \n",
    "cap.release()\n",
    "cv2.destroyAllWindows()\n",
    "cv2.waitKey(1)\n",
    "\n",
    "\n"
   ]
  },
  {
   "cell_type": "code",
   "execution_count": null,
   "metadata": {},
   "outputs": [],
   "source": [
    "import os\n",
    "cv2path = os.path.dirname(cv2.__file__)\n",
    "def find(name, path):\n",
    "    for root, dirs, files in os.walk(path):\n",
    "        if (name in files) or (name in dirs):\n",
    "            return os.path.join(root, name)\n",
    "     # Caso nao encontre, recursao para diretorios anteriores\n",
    "    return find(name, os.path.dirname(path))\n",
    "xml_path = find('haarcascade_frontalface_alt2.xml', cv2path)\n",
    "xml_path"
   ]
  },
  {
   "cell_type": "code",
   "execution_count": null,
   "metadata": {},
   "outputs": [],
   "source": [
    "clf = cv2.CascadeClassifier(xml_path)"
   ]
  },
  {
   "cell_type": "code",
   "execution_count": null,
   "metadata": {},
   "outputs": [],
   "source": [
    "gray = cv2.cvtColor(frame, cv2.COLOR_BGR2GRAY)"
   ]
  },
  {
   "cell_type": "code",
   "execution_count": null,
   "metadata": {},
   "outputs": [],
   "source": [
    "faces = clf.detectMultiScale(gray)"
   ]
  },
  {
   "cell_type": "code",
   "execution_count": 1,
   "metadata": {},
   "outputs": [
    {
     "data": {
      "text/plain": [
       "-1"
      ]
     },
     "execution_count": 1,
     "metadata": {},
     "output_type": "execute_result"
    }
   ],
   "source": [
    "import cv2 as cv\n",
    "\n",
    "xml_path = 'c:\\\\python_myprojects\\\\Machinelearning\\\\venv\\\\lib\\\\site-packages\\\\cv2\\\\data\\\\haarcascade_frontalface_alt2.xml'\n",
    "clf = cv.CascadeClassifier(xml_path)    \n",
    "cap = cv.VideoCapture(0)\n",
    "\n",
    "while(not cv.waitKey(20) & 0xFF == ord('q')):\n",
    "        # Capturar proximo frame\n",
    "        ret, frame = cap.read()\n",
    "        new_frame = cv.cvtColor(frame, cv.COLOR_BGR2GRAY)\n",
    "        faces = clf.detectMultiScale(new_frame)\n",
    "        for x, y, w, h in faces:\n",
    "            cv.rectangle(frame, (x, y), (x+w, y+h), (0,0,255))\n",
    "        cv.imshow('in live', frame)\n",
    "cap.release()\n",
    "cv.destroyAllWindows(); cv.waitKey(1)\n",
    "\n"
   ]
  }
 ],
 "metadata": {
  "interpreter": {
   "hash": "d06a0b9b9fa0302a0cbe45882f606a567a4cd57e42b99745fdc59fa650affa19"
  },
  "kernelspec": {
   "display_name": "Python 3.9.0 64-bit ('venv': venv)",
   "language": "python",
   "name": "python3"
  },
  "language_info": {
   "codemirror_mode": {
    "name": "ipython",
    "version": 3
   },
   "file_extension": ".py",
   "mimetype": "text/x-python",
   "name": "python",
   "nbconvert_exporter": "python",
   "pygments_lexer": "ipython3",
   "version": "3.9.0"
  },
  "orig_nbformat": 4
 },
 "nbformat": 4,
 "nbformat_minor": 2
}
