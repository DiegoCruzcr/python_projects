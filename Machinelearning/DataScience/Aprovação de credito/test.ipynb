{
 "cells": [
  {
   "cell_type": "code",
   "execution_count": 1,
   "metadata": {},
   "outputs": [],
   "source": [
    "import pandas as pd\n",
    "\n",
    "arquivo = pd.read_csv('data/treino.csv')"
   ]
  },
  {
   "cell_type": "code",
   "execution_count": 5,
   "metadata": {},
   "outputs": [
    {
     "name": "stdout",
     "output_type": "stream",
     "text": [
      "<class 'pandas.core.frame.DataFrame'>\n",
      "RangeIndex: 110000 entries, 0 to 109999\n",
      "Data columns (total 11 columns):\n",
      " #   Column                                 Non-Null Count   Dtype  \n",
      "---  ------                                 --------------   -----  \n",
      " 0   inadimplente                           110000 non-null  int64  \n",
      " 1   util_linhas_inseguras                  110000 non-null  float64\n",
      " 2   idade                                  110000 non-null  int64  \n",
      " 3   vezes_passou_de_30_59_dias             110000 non-null  int64  \n",
      " 4   razao_debito                           110000 non-null  float64\n",
      " 5   salario_mensal                         88237 non-null   float64\n",
      " 6   numero_linhas_crdto_aberto             110000 non-null  int64  \n",
      " 7   numero_vezes_passou_90_dias            110000 non-null  int64  \n",
      " 8   numero_emprestimos_imobiliarios        110000 non-null  int64  \n",
      " 9   numero_de_vezes_que_passou_60_89_dias  110000 non-null  int64  \n",
      " 10  numero_de_dependentes                  107122 non-null  float64\n",
      "dtypes: float64(4), int64(7)\n",
      "memory usage: 9.2 MB\n"
     ]
    }
   ],
   "source": [
    "arquivo.head()\n",
    "arquivo.info()\n"
   ]
  },
  {
   "cell_type": "code",
   "execution_count": null,
   "metadata": {},
   "outputs": [],
   "source": []
  }
 ],
 "metadata": {
  "interpreter": {
   "hash": "d06a0b9b9fa0302a0cbe45882f606a567a4cd57e42b99745fdc59fa650affa19"
  },
  "kernelspec": {
   "display_name": "Python 3.9.0 64-bit ('venv': venv)",
   "language": "python",
   "name": "python3"
  },
  "language_info": {
   "codemirror_mode": {
    "name": "ipython",
    "version": 3
   },
   "file_extension": ".py",
   "mimetype": "text/x-python",
   "name": "python",
   "nbconvert_exporter": "python",
   "pygments_lexer": "ipython3",
   "version": "3.9.0"
  },
  "orig_nbformat": 4
 },
 "nbformat": 4,
 "nbformat_minor": 2
}
