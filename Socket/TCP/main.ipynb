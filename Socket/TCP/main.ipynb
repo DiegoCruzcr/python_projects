{
 "cells": [
  {
   "cell_type": "code",
   "execution_count": 2,
   "metadata": {},
   "outputs": [],
   "source": [
    "import socket\n",
    "resp = 'S'\n",
    "\n",
    "while (resp=='S'):\n",
    "    url = input('Digite uma url: ')\n",
    "    ip = socket.gethostbyname(url)\n",
    "    print(f\"O ip referente a url informada é: {url}\")\n",
    "    resp = input(\"Digite 's' para continuar: \").upper\n",
    "    "
   ]
  },
  {
   "cell_type": "code",
   "execution_count": 1,
   "metadata": {},
   "outputs": [
    {
     "name": "stdout",
     "output_type": "stream",
     "text": [
      "Aguardando cliente...\n"
     ]
    }
   ],
   "source": [
    "from socket import *\n",
    "\n",
    "servidor = '127.0.0.1' #localhost\n",
    "porta = 43210\n",
    "obj_socket = socket(AF_INET,  SOCK_STREAM)\n",
    "obj_socket.bind((servidor, porta))\n",
    "obj_socket.listen(2) #limitclients\n",
    "\n",
    "print(\"Aguardando cliente...\")\n",
    "\n",
    "while True:\n",
    "    con, client = obj_socket.accept()\n",
    "    print(\"Conectado com: \", client)\n",
    "    while True:\n",
    "        msg_recv = str(con.recv(1024))\n",
    "        print(\"Msg recebida: \", msg_recv)\n",
    "        msg_send = b'Hello client'\n",
    "        con.send(msg_send)\n",
    "        break\n",
    "    con.close()\n",
    "    "
   ]
  }
 ],
 "metadata": {
  "interpreter": {
   "hash": "d882e304e5400162ddb70d8b9ad3c0ce5d0077b259453c80a3e47ddf5e3ccf20"
  },
  "kernelspec": {
   "display_name": "Python 3.9.0 64-bit ('venv': venv)",
   "language": "python",
   "name": "python3"
  },
  "language_info": {
   "codemirror_mode": {
    "name": "ipython",
    "version": 3
   },
   "file_extension": ".py",
   "mimetype": "text/x-python",
   "name": "python",
   "nbconvert_exporter": "python",
   "pygments_lexer": "ipython3",
   "version": "3.9.0"
  },
  "orig_nbformat": 4
 },
 "nbformat": 4,
 "nbformat_minor": 2
}
